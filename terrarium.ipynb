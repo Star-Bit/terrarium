{
 "metadata": {
  "name": "",
  "signature": "sha256:25c3cfc6fda5d489dc44aa55bd17522156915a8d08c59dcca8856be020bdc752"
 },
 "nbformat": 3,
 "nbformat_minor": 0,
 "worksheets": [
  {
   "cells": [
    {
     "cell_type": "heading",
     "level": 1,
     "metadata": {},
     "source": [
      "Day 0 - Tank Cleaning and Placement"
     ]
    },
    {
     "cell_type": "heading",
     "level": 2,
     "metadata": {},
     "source": [
      "20140712"
     ]
    },
    {
     "cell_type": "markdown",
     "metadata": {},
     "source": [
      "* 15 gallon DIY saltwater-style aquarium purchased for our tank. Inner dimensions measured at 11 3/4\" wide x 23 1/2\" long x 12\" high.\n",
      "* Wiped down with vinegar and distilled water. Then rinsed multiple times with distilled water.\n",
      "* Placed next to a west-facing window."
     ]
    },
    {
     "cell_type": "heading",
     "level": 1,
     "metadata": {},
     "source": [
      "Day 1 - Drosera Capensis, Unidentified Drosera plantlets, and Various Sphagnum propagation"
     ]
    },
    {
     "cell_type": "heading",
     "level": 2,
     "metadata": {},
     "source": [
      "20140713"
     ]
    },
    {
     "cell_type": "markdown",
     "metadata": {},
     "source": [
      "* Visited [Conservatory of Flowers](http://conservatoryofflowers.org/)' carnivorous plant [CHOMP!](http://conservatoryofflowers.org/special-events/chomp-they-came-swamp) exhibit.\n",
      "* Purchased a [Drosera Capensis](https://en.wikipedia.org/wiki/Drosera_capensis) that has some yet uncounted 20+ small Drosera plantlets.\n",
      "* Placed this Drosera container in terrarium with approximately 1/2 cm distilled water in bottom of tank.\n",
      "* Placed single pieces of various sphagnum and other mosses on some dead sphagnum moss substrate in a separate container in the terrarium that also is dampened, and with a 1/2 cm distilled water."
     ]
    },
    {
     "cell_type": "heading",
     "level": 1,
     "metadata": {},
     "source": [
      "Day 2 - Water misting, Added Grid, Darlingtonia Californica Cold Stratification"
     ]
    },
    {
     "cell_type": "heading",
     "level": 2,
     "metadata": {},
     "source": [
      "20140714"
     ]
    },
    {
     "cell_type": "markdown",
     "metadata": {},
     "source": [
      "6pm\n",
      "\n",
      "* Refilled to another < 1 cm distilled water amount in morning.\n",
      "* Misted sides and top at ~6pm to see if this heightens humidity for an extended period.\n",
      "* No drastic changes in plants, but look healthy enough (IMHO, for a first full day after placement) and not shocked from travel, or change in environment.\n",
      "\n",
      "9pm\n",
      "\n",
      "* Cut plastic flourescent grid for bottom of tank.\n",
      "* Topped more distilled water off to regular height relative to the Drosera pot.\n",
      "* Drosera looking much refreshed (possibly just a positive outlook).\n",
      "\n",
      "10:30pm\n",
      "\n",
      "##Darlingtonia Californica Cold Stratification\n",
      "4-6 weeks cold stratification needed, see [ICPS Darlingtonia guide](http://www.carnivorousplants.org/howto/GrowingGuides/Darlingtonia.php). Propagation is following first part of ICPS' [Sowing Seeds Step-by-Step](http://www.carnivorousplants.org/howto/Propagation/SeedsSBS.php).\n",
      "\n",
      "\n",
      "1. Wash sphagnum.\n",
      "2. Chop sphagnum, then divide into two bunches.\n",
      "3. Divide seeds into two and place into these sphagnum bunches. The seeds were very tiny and almost like fluff pieces, so eyeballed instead of counted.\n",
      "4. Label bags and place seed-infused sphagnum in bags, one for 4 weeks and one for 6 weeks.\n",
      "5. Place in refrigerator.\n",
      "6. Wait 4 weeks and 6 weeks respectively. (8/11 and 8/25)\n"
     ]
    },
    {
     "cell_type": "heading",
     "level": 1,
     "metadata": {},
     "source": [
      "Day 4 - Utricularia subulata"
     ]
    },
    {
     "cell_type": "heading",
     "level": 2,
     "metadata": {},
     "source": [
      "20140715"
     ]
    },
    {
     "cell_type": "markdown",
     "metadata": {},
     "source": [
      "6:30pm \n",
      "\n",
      "* misted terrarium walls again\n",
      "\n",
      "##Utricularia propagation\n",
      "\n",
      "9:30pm\n",
      "\n",
      "* cleaned container, rinsed with distilled water\n",
      "* rinsed and chopped sphagnum\n",
      "* added sphagnum loosely to top\n",
      "* fill container to near top with distilled water\n",
      "* topped a bit of sphagnum off so mostly even with top, and still moist\n",
      "* sprinkle those seeds! so tiny, less than pepper.\n",
      "* covered with a sandwich bag, was tight enough that didnt tape."
     ]
    },
    {
     "cell_type": "markdown",
     "metadata": {},
     "source": [
      "#Scratch Pad Cell\n",
      "##Intended mixes\n",
      "* Unidentified Drosera plantlets - 50/50 sand:peat mix\n",
      "* Byblis liniflora - 3/4:1/4 peat:sand mix with a \"heat treatment\", give shade[^5].\n",
      "* Utricularia subulata - pure chopped sphagnum, with a few cm of water in glass container, because can handle container without drainage and likes containers that allow light into the soil[^4]. **Aside:** later try 50/50 peat:sand\n",
      "* Darlingtonia Californica - 60/40 peat:sand[^1]. **Aside:** In future can also try 100% peat moss, or a finely chopped Sphagnum/sand mix.\n",
      "* Pinguicula Lusitanica - 3/1/1 peat:sand:perlite or possibly pure peat depending on conditions[^2] (what conditions?), or 50/50 peat:sand [^3]\n",
      "\n",
      "[^1]:http://www.carnivorousplants.org/howto/GrowingGuides/Darlingtonia.php\n",
      "[^2]:http://www.carnivorousplants.org/howto/GrowingGuides/Pings_WarmTemp.php\n",
      "[^3]:http://www.carnivorousplants.org/cpn/articles/CPNv19n1_2p41_43.pdf\n",
      "[^4]:http://www.carnivorousplants.org/howto/GrowingGuides/Utricularia.php\n",
      "[^5]:http://www.carnivorousplants.org/cpn/articles/CPNv10n4p102_103.pdf\n",
      "\n",
      "##Byblis Liniflora\n",
      "* Depending on seed #, one part of the seeds we will use the [Gibberellic acid](https://en.wikipedia.org/wiki/Gibberellic_acid) or \"bleach method\" with 1/10 bleach:water mix to remove the germination inhibitor on the seeds. The other part will use the \"cold-smoke\" method, and the last part will be untreated.\n",
      "\n",
      "##Intended breakout boards and sensors\n",
      "###First group\n",
      "* [DHT22](http://www.adafruit.com/products/385) ([datasheet](https://www.adafruit.com/datasheets/DHT22.pdf)) - temperature and humidity, humidity 0-100%RH, temperature -40 - 125\u00b0C, **NOTE: avoid dew warning**\n",
      "* [TSL2561](https://www.adafruit.com/products/439) ([datasheet](https://www.adafruit.com/datasheets/TSL256x.pdf))- luminosity, 0.1 to 40,000 Lux\n",
      "* [CdS photoresistor](https://www.adafruit.com/products/161) - 5-200K\u03a9?\n",
      "\n",
      "###Second group\n",
      "for later .. it's expensiveeee\n",
      "\n",
      "* water pump for chilled water with Darlingtonia, they like cool roots, and are found with running cool water. cycle into chilled water.[^1][^2]\n",
      "\n",
      "[^1]:www.carnivorousplants.org/howto/GrowingGuides/Darlingtonia.php\n",
      "[^2]:http://www.carnivorousplants.org/cpn/articles/CPNv14n3p78_80.pdf\n",
      "\n",
      "* [SHT-10](https://www.adafruit.com/products/1298) ([SHT10 datasheet](http://www.adafruit.com/datasheets/Sensirion_Humidity_SHT1x_Datasheet_V5.pdf), [soil sensor datasheet](http://www.adafruit.com/datasheets/SLHT5.pdf)) - soil temperature / moisture sensor, -40 - 123.8\u00b0C, 0-100%RH, **NOTE: avoid long term submersion, might want to find an alternative**\n",
      "* [Infragram Webcam](https://www.adafruit.com/products/1722) - visible and infrared\n",
      "\n",
      "#Warning Sensors Points\n",
      "Will add these points to tweet to myself that something bad is happening.\n",
      "\n",
      "* If near **80\u00b0F**, warn for Darlingtonia, they need cool roots[^1], and roots recommended no warmer than **17\u00b0C**[^2].\n",
      "* Pinguicula Lusitanica needs temp above 15\u00b0C (60\u00b0F)[^3]\n",
      "\n",
      "[^1]:http://www.carnivorousplants.org/howto/GrowingGuides/Darlingtonia.php\n",
      "[^2]:http://www.carnivorousplants.org/cpn/articles/CPNv14n3p78_80.pdf\n",
      "[^3]:http://www.carnivorousplants.org/howto/GrowingGuides/Pings_WarmTemp.php\n",
      "\n",
      "#Grow Guides\n",
      "* [Pinguicula lusitanica](http://www.carnivorousplants.org/howto/GrowingGuides/Pings_WarmTemp.php)\n",
      "* [Byblis](http://www.carnivorousplants.org/howto/GrowingGuides/Byblis.php)\n",
      "  * [Byblis liniflora](http://www.carnivorousplants.org/cpn/articles/CPNv10n4p102_103.pdf)\n",
      "* [Utricularia subulata](http://www.carnivorousplants.org/howto/GrowingGuides/Utricularia.php)"
     ]
    },
    {
     "cell_type": "code",
     "collapsed": false,
     "input": [],
     "language": "python",
     "metadata": {},
     "outputs": []
    }
   ],
   "metadata": {}
  }
 ]
}