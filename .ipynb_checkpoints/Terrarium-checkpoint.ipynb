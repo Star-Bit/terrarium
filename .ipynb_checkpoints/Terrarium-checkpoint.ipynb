{
 "metadata": {
  "name": "",
  "signature": "sha256:68482ab9235a6aaed5c02a11f175d07bd2566ed4a30d6ce7cc156071b3cb3245"
 },
 "nbformat": 3,
 "nbformat_minor": 0,
 "worksheets": [
  {
   "cells": [
    {
     "cell_type": "heading",
     "level": 1,
     "metadata": {},
     "source": [
      "Day 0 - Tank Cleaning and Placement"
     ]
    },
    {
     "cell_type": "heading",
     "level": 2,
     "metadata": {},
     "source": [
      "20140712"
     ]
    },
    {
     "cell_type": "markdown",
     "metadata": {},
     "source": [
      "* 15 gallon DIY saltwater-style aquarium purchased for our tank.\n",
      "* Wiped down with vinegar and distilled water. Then rinsed multiple times with distilled water.\n",
      "* Placed next to a west-facing window."
     ]
    },
    {
     "cell_type": "heading",
     "level": 1,
     "metadata": {},
     "source": [
      "Day 1 - Drosera Capensis, Unidentified Drosera plantlets, and Various Sphagnum propagation"
     ]
    },
    {
     "cell_type": "heading",
     "level": 2,
     "metadata": {},
     "source": [
      "20140713"
     ]
    },
    {
     "cell_type": "markdown",
     "metadata": {},
     "source": [
      "* Visited [Conservatory of Flowers](http://conservatoryofflowers.org/)' carnivorous plant [CHOMP!](http://conservatoryofflowers.org/special-events/chomp-they-came-swamp) exhibit.\n",
      "* Purchased a [Drosera Capensis](https://en.wikipedia.org/wiki/Drosera_capensis) that has some yet uncounted 20+ small Drosera plantlets.\n",
      "* Placed this Drosera container in terrarium with approximately 1/2 cm distilled water in bottom of tank.\n",
      "* Placed single pieces of various sphagnum and other mosses on some dead sphagnum moss substrate in a sub-container in the terrarium."
     ]
    },
    {
     "cell_type": "code",
     "collapsed": false,
     "input": [],
     "language": "python",
     "metadata": {},
     "outputs": []
    }
   ],
   "metadata": {}
  }
 ]
}