{
 "metadata": {
  "name": "",
  "signature": "sha256:b4bdf5eddc26ac71048a6535491ce74b2d6823122ebad04b3fc0e02b3291b663"
 },
 "nbformat": 3,
 "nbformat_minor": 0,
 "worksheets": [
  {
   "cells": [
    {
     "cell_type": "heading",
     "level": 1,
     "metadata": {},
     "source": [
      "Day 0 - Tank Cleaning and Placement"
     ]
    },
    {
     "cell_type": "heading",
     "level": 2,
     "metadata": {},
     "source": [
      "20140712"
     ]
    },
    {
     "cell_type": "markdown",
     "metadata": {},
     "source": [
      "* 15 gallon DIY saltwater-style aquarium purchased for our tank. Inner dimensions measured at 11 3/4\" wide x 23 1/2\" long x 12\" high.\n",
      "* Wiped down with vinegar and distilled water. Then rinsed multiple times with distilled water.\n",
      "* Placed next to a west-facing window."
     ]
    },
    {
     "cell_type": "heading",
     "level": 1,
     "metadata": {},
     "source": [
      "Day 1 - Drosera Capensis, Unidentified Drosera plantlets, and Various Sphagnum propagation"
     ]
    },
    {
     "cell_type": "heading",
     "level": 2,
     "metadata": {},
     "source": [
      "20140713"
     ]
    },
    {
     "cell_type": "markdown",
     "metadata": {},
     "source": [
      "* Visited [Conservatory of Flowers](http://conservatoryofflowers.org/)' carnivorous plant [CHOMP!](http://conservatoryofflowers.org/special-events/chomp-they-came-swamp) exhibit.\n",
      "* Purchased a [Drosera Capensis](https://en.wikipedia.org/wiki/Drosera_capensis) that has some yet uncounted 20+ small Drosera plantlets.\n",
      "* Placed this Drosera container in terrarium with approximately 1/2 cm distilled water in bottom of tank.\n",
      "* Placed single pieces of various sphagnum and other mosses on some dead sphagnum moss substrate in a separate container in the terrarium that also is dampened, and with a 1/2 cm distilled water."
     ]
    },
    {
     "cell_type": "heading",
     "level": 1,
     "metadata": {},
     "source": [
      "Day 2 - Water misting, Added Grid, Darlingtonia Californica Cold Stratification"
     ]
    },
    {
     "cell_type": "heading",
     "level": 2,
     "metadata": {},
     "source": [
      "20140714"
     ]
    },
    {
     "cell_type": "markdown",
     "metadata": {},
     "source": [
      "6pm\n",
      "\n",
      "* Refilled to another < 1 cm distilled water amount in morning.\n",
      "* Misted sides and top at ~6pm to see if this heightens humidity for an extended period.\n",
      "* No drastic changes in plants, but look healthy enough (IMHO, for a first full day after placement) and not shocked from travel, or change in environment.\n",
      "\n",
      "9pm\n",
      "\n",
      "* cut plastic flourescent grid for bottom of tank.\n",
      "* topped more distilled water off to regular height relative to the Drosera pot.\n",
      "* Drosera looking much refreshed (possibly just a positive outlook).\n",
      "\n",
      "10:30pm\n",
      "\n",
      "Darlingtonia Californica Cold Stratification\n",
      "\n",
      "1. Wash sphagnum.\n",
      "2. Chop sphagnum, then divide into two bunches.\n",
      "3. Divide seeds into two and place into these sphagnum bunches. The seeds were very tiny and almost like fluff pieces, so eyeballed instead of counted.\n",
      "4. Label bags and place seed-infused sphagnum in bags, one for 4 weeks and one for 6 weeks.\n",
      "5. Place in refrigerator.\n",
      "6. Wait 4 weeks and 6 weeks respectively. (8/11 and 8/25)\n"
     ]
    },
    {
     "cell_type": "code",
     "collapsed": false,
     "input": [],
     "language": "python",
     "metadata": {},
     "outputs": []
    }
   ],
   "metadata": {}
  }
 ]
}